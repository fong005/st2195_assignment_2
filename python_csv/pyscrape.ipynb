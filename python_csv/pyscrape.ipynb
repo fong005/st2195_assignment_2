{
 "cells": [
  {
   "cell_type": "code",
   "execution_count": 83,
   "id": "9c60874f",
   "metadata": {},
   "outputs": [],
   "source": [
    "from urllib.request import urlopen\n",
    "from bs4 import BeautifulSoup\n",
    "import requests\n",
    "import pandas as pd\n",
    "import lxml"
   ]
  },
  {
   "cell_type": "code",
   "execution_count": 84,
   "id": "37ce8e92",
   "metadata": {},
   "outputs": [],
   "source": [
    "wikiurl = \"https://en.wikipedia.org/wiki/Comma-separated_values\""
   ]
  },
  {
   "cell_type": "code",
   "execution_count": 85,
   "id": "29aec4b4",
   "metadata": {
    "scrolled": true
   },
   "outputs": [
    {
     "name": "stdout",
     "output_type": "stream",
     "text": [
      "200\n"
     ]
    }
   ],
   "source": [
    "table_class = \"wikitable sortable jquery-tablesorter\"\n",
    "response=requests.get(wikiurl)\n",
    "print(response.status_code)"
   ]
  },
  {
   "cell_type": "code",
   "execution_count": 95,
   "id": "ab32537d",
   "metadata": {},
   "outputs": [
    {
     "data": {
      "text/plain": [
       "<table class=\"wikitable\">\n",
       "<tbody><tr>\n",
       "<th>Year</th>\n",
       "<th>Make</th>\n",
       "<th>Model</th>\n",
       "<th>Description</th>\n",
       "<th>Price\n",
       "</th></tr>\n",
       "<tr>\n",
       "<td>1997</td>\n",
       "<td>Ford</td>\n",
       "<td>E350</td>\n",
       "<td>ac, abs, moon</td>\n",
       "<td>3000.00\n",
       "</td></tr>\n",
       "<tr>\n",
       "<td>1999</td>\n",
       "<td>Chevy</td>\n",
       "<td>Venture \"Extended Edition\"</td>\n",
       "<td></td>\n",
       "<td>4900.00\n",
       "</td></tr>\n",
       "<tr>\n",
       "<td>1999</td>\n",
       "<td>Chevy</td>\n",
       "<td>Venture \"Extended Edition, Very Large\"</td>\n",
       "<td></td>\n",
       "<td>5000.00\n",
       "</td></tr>\n",
       "<tr>\n",
       "<td>1996</td>\n",
       "<td>Jeep</td>\n",
       "<td>Grand Cherokee</td>\n",
       "<td>MUST SELL!<br/>air, moon roof, loaded</td>\n",
       "<td>4799.00\n",
       "</td></tr></tbody></table>"
      ]
     },
     "execution_count": 95,
     "metadata": {},
     "output_type": "execute_result"
    }
   ],
   "source": [
    "soup = BeautifulSoup(response.text, 'html.parser')\n",
    "wikitable = soup.find('table',{'class':\"wikitable\"})\n",
    "\n",
    "wikitable"
   ]
  },
  {
   "cell_type": "code",
   "execution_count": 111,
   "id": "8fef7185",
   "metadata": {},
   "outputs": [
    {
     "data": {
      "text/html": [
       "<div>\n",
       "<style scoped>\n",
       "    .dataframe tbody tr th:only-of-type {\n",
       "        vertical-align: middle;\n",
       "    }\n",
       "\n",
       "    .dataframe tbody tr th {\n",
       "        vertical-align: top;\n",
       "    }\n",
       "\n",
       "    .dataframe thead th {\n",
       "        text-align: right;\n",
       "    }\n",
       "</style>\n",
       "<table border=\"1\" class=\"dataframe\">\n",
       "  <thead>\n",
       "    <tr style=\"text-align: right;\">\n",
       "      <th></th>\n",
       "      <th>Year</th>\n",
       "      <th>Make</th>\n",
       "      <th>Model</th>\n",
       "      <th>Description</th>\n",
       "      <th>Price</th>\n",
       "    </tr>\n",
       "  </thead>\n",
       "  <tbody>\n",
       "    <tr>\n",
       "      <th>0</th>\n",
       "      <td>1997</td>\n",
       "      <td>Ford</td>\n",
       "      <td>E350</td>\n",
       "      <td>ac, abs, moon</td>\n",
       "      <td>3000.0</td>\n",
       "    </tr>\n",
       "    <tr>\n",
       "      <th>1</th>\n",
       "      <td>1999</td>\n",
       "      <td>Chevy</td>\n",
       "      <td>Venture \"Extended Edition\"</td>\n",
       "      <td>NaN</td>\n",
       "      <td>4900.0</td>\n",
       "    </tr>\n",
       "    <tr>\n",
       "      <th>2</th>\n",
       "      <td>1999</td>\n",
       "      <td>Chevy</td>\n",
       "      <td>Venture \"Extended Edition, Very Large\"</td>\n",
       "      <td>NaN</td>\n",
       "      <td>5000.0</td>\n",
       "    </tr>\n",
       "    <tr>\n",
       "      <th>3</th>\n",
       "      <td>1996</td>\n",
       "      <td>Jeep</td>\n",
       "      <td>Grand Cherokee</td>\n",
       "      <td>MUST SELL!air, moon roof, loaded</td>\n",
       "      <td>4799.0</td>\n",
       "    </tr>\n",
       "  </tbody>\n",
       "</table>\n",
       "</div>"
      ],
      "text/plain": [
       "   Year   Make                                   Model  \\\n",
       "0  1997   Ford                                    E350   \n",
       "1  1999  Chevy              Venture \"Extended Edition\"   \n",
       "2  1999  Chevy  Venture \"Extended Edition, Very Large\"   \n",
       "3  1996   Jeep                          Grand Cherokee   \n",
       "\n",
       "                        Description   Price  \n",
       "0                     ac, abs, moon  3000.0  \n",
       "1                               NaN  4900.0  \n",
       "2                               NaN  5000.0  \n",
       "3  MUST SELL!air, moon roof, loaded  4799.0  "
      ]
     },
     "execution_count": 111,
     "metadata": {},
     "output_type": "execute_result"
    }
   ],
   "source": [
    "df = pd.read_html(str(wikitable))\n",
    "df = pd.DataFrame(df[0])\n",
    "pd.DataFrame(df)"
   ]
  },
  {
   "cell_type": "code",
   "execution_count": 109,
   "id": "56435d7a",
   "metadata": {},
   "outputs": [],
   "source": [
    "df.to_csv(r\"Desktop/ST2195_A2/python_csv/pywikitable.csv\")"
   ]
  },
  {
   "cell_type": "code",
   "execution_count": null,
   "id": "aebacca9",
   "metadata": {},
   "outputs": [],
   "source": []
  }
 ],
 "metadata": {
  "kernelspec": {
   "display_name": "Python 3",
   "language": "python",
   "name": "python3"
  },
  "language_info": {
   "codemirror_mode": {
    "name": "ipython",
    "version": 3
   },
   "file_extension": ".py",
   "mimetype": "text/x-python",
   "name": "python",
   "nbconvert_exporter": "python",
   "pygments_lexer": "ipython3",
   "version": "3.8.8"
  }
 },
 "nbformat": 4,
 "nbformat_minor": 5
}
